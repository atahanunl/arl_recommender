{
 "cells": [
  {
   "cell_type": "code",
   "execution_count": 1,
   "outputs": [],
   "source": [
    "# Import necessary libraries\n",
    "import pandas as pd\n",
    "\n",
    "from mlxtend.frequent_patterns import apriori, association_rules"
   ],
   "metadata": {
    "collapsed": false,
    "ExecuteTime": {
     "end_time": "2023-12-17T17:21:24.097022Z",
     "start_time": "2023-12-17T17:21:23.394164Z"
    }
   },
   "id": "3d7fdcf48c43976c"
  },
  {
   "cell_type": "markdown",
   "source": [
    "# 1. Introduction"
   ],
   "metadata": {
    "collapsed": false
   },
   "id": "1e8fd0aebf1e120c"
  },
  {
   "cell_type": "markdown",
   "source": [
    "## 1.1 Business Problem\n",
    "\n",
    "Armut, recognized as Turkey's foremost online service platform, serves as a nexus connecting service providers with\n",
    "those in need. It streamlines access to services such as cleaning, renovation, and moving through a simple interface on\n",
    "computers or smartphones. The intention is to employ Association Rule Learning to develop a product recommendation\n",
    "system based on the dataset encompassing users who have availed services and the corresponding service categories."
   ],
   "metadata": {
    "collapsed": false
   },
   "id": "94e6520ace352671"
  },
  {
   "cell_type": "markdown",
   "source": [
    "## 1.2 Dataset Story\n",
    "\n",
    "The dataset comprises information about the services customers have acquired and the respective service categories.\n",
    "Additionally, it includes the date and time details for each service received."
   ],
   "metadata": {
    "collapsed": false
   },
   "id": "5e5b180bbd894684"
  },
  {
   "cell_type": "markdown",
   "source": [
    "## 1.3 Features\n",
    "\n",
    "- `UserId` - Distinct customer identifier\n",
    "- `ServiceId` - Anonymized services associated with each category. For instance, within the cleaning category, a service\n",
    "  could be upholstery cleaning. `ServiceId` may appear across different categories, signifying diverse services under\n",
    "  distinct categories or a service with `CategoryId` = 7 and `ServiceId` = 4 could be radiator cleaning, whereas a\n",
    "  service with `CategoryId` = 2 and `ServiceId` = 4 might be furniture assembly\n",
    "- `CategoryId` - Anonymized categories. For instance; cleaning, moving, renovation\n",
    "- `CreateDate` - The date on which the service was purchased"
   ],
   "metadata": {
    "collapsed": false
   },
   "id": "b83d7e5ee84161c6"
  },
  {
   "cell_type": "markdown",
   "source": [
    "# 2. Data Handling"
   ],
   "metadata": {
    "collapsed": false
   },
   "id": "758924927fe8cd8"
  },
  {
   "cell_type": "markdown",
   "source": [
    "## 2.1 Loading Data"
   ],
   "metadata": {
    "collapsed": false
   },
   "id": "3bd15b77bca4b34d"
  },
  {
   "cell_type": "code",
   "execution_count": 2,
   "outputs": [],
   "source": [
    "# Load the dataset\n",
    "logs = pd.read_csv('armut_data.csv', parse_dates=['CreateDate'])"
   ],
   "metadata": {
    "collapsed": false,
    "ExecuteTime": {
     "end_time": "2023-11-20T22:53:00.671680Z",
     "start_time": "2023-11-20T22:53:00.442698Z"
    }
   },
   "id": "4282952364e887c1"
  },
  {
   "cell_type": "code",
   "execution_count": 3,
   "outputs": [
    {
     "data": {
      "text/plain": "   UserId  ServiceId  CategoryId          CreateDate\n0   25446          4           5 2017-08-06 16:11:00\n1   22948         48           5 2017-08-06 16:12:00\n2   10618          0           8 2017-08-06 16:13:00\n3    7256          9           4 2017-08-06 16:14:00\n4   25446         48           5 2017-08-06 16:16:00",
      "text/html": "<div>\n<style scoped>\n    .dataframe tbody tr th:only-of-type {\n        vertical-align: middle;\n    }\n\n    .dataframe tbody tr th {\n        vertical-align: top;\n    }\n\n    .dataframe thead th {\n        text-align: right;\n    }\n</style>\n<table border=\"1\" class=\"dataframe\">\n  <thead>\n    <tr style=\"text-align: right;\">\n      <th></th>\n      <th>UserId</th>\n      <th>ServiceId</th>\n      <th>CategoryId</th>\n      <th>CreateDate</th>\n    </tr>\n  </thead>\n  <tbody>\n    <tr>\n      <th>0</th>\n      <td>25446</td>\n      <td>4</td>\n      <td>5</td>\n      <td>2017-08-06 16:11:00</td>\n    </tr>\n    <tr>\n      <th>1</th>\n      <td>22948</td>\n      <td>48</td>\n      <td>5</td>\n      <td>2017-08-06 16:12:00</td>\n    </tr>\n    <tr>\n      <th>2</th>\n      <td>10618</td>\n      <td>0</td>\n      <td>8</td>\n      <td>2017-08-06 16:13:00</td>\n    </tr>\n    <tr>\n      <th>3</th>\n      <td>7256</td>\n      <td>9</td>\n      <td>4</td>\n      <td>2017-08-06 16:14:00</td>\n    </tr>\n    <tr>\n      <th>4</th>\n      <td>25446</td>\n      <td>48</td>\n      <td>5</td>\n      <td>2017-08-06 16:16:00</td>\n    </tr>\n  </tbody>\n</table>\n</div>"
     },
     "execution_count": 3,
     "metadata": {},
     "output_type": "execute_result"
    }
   ],
   "source": [
    "# Display the first few rows\n",
    "logs.head()"
   ],
   "metadata": {
    "collapsed": false,
    "ExecuteTime": {
     "end_time": "2023-11-20T22:53:00.698465Z",
     "start_time": "2023-11-20T22:53:00.668086Z"
    }
   },
   "id": "241254ee24612d03"
  },
  {
   "cell_type": "markdown",
   "source": [
    "## 2.2 Inspecting Data"
   ],
   "metadata": {
    "collapsed": false
   },
   "id": "7ac61b80988b5dc1"
  },
  {
   "cell_type": "code",
   "execution_count": 4,
   "outputs": [
    {
     "data": {
      "text/plain": "              UserId      ServiceId     CategoryId\ncount  162523.000000  162523.000000  162523.000000\nmean    13089.803862      21.641140       4.325917\nstd      7325.816060      13.774405       3.129292\nmin         0.000000       0.000000       0.000000\n25%      6953.000000      13.000000       1.000000\n50%     13139.000000      18.000000       4.000000\n75%     19396.000000      32.000000       6.000000\nmax     25744.000000      49.000000      11.000000",
      "text/html": "<div>\n<style scoped>\n    .dataframe tbody tr th:only-of-type {\n        vertical-align: middle;\n    }\n\n    .dataframe tbody tr th {\n        vertical-align: top;\n    }\n\n    .dataframe thead th {\n        text-align: right;\n    }\n</style>\n<table border=\"1\" class=\"dataframe\">\n  <thead>\n    <tr style=\"text-align: right;\">\n      <th></th>\n      <th>UserId</th>\n      <th>ServiceId</th>\n      <th>CategoryId</th>\n    </tr>\n  </thead>\n  <tbody>\n    <tr>\n      <th>count</th>\n      <td>162523.000000</td>\n      <td>162523.000000</td>\n      <td>162523.000000</td>\n    </tr>\n    <tr>\n      <th>mean</th>\n      <td>13089.803862</td>\n      <td>21.641140</td>\n      <td>4.325917</td>\n    </tr>\n    <tr>\n      <th>std</th>\n      <td>7325.816060</td>\n      <td>13.774405</td>\n      <td>3.129292</td>\n    </tr>\n    <tr>\n      <th>min</th>\n      <td>0.000000</td>\n      <td>0.000000</td>\n      <td>0.000000</td>\n    </tr>\n    <tr>\n      <th>25%</th>\n      <td>6953.000000</td>\n      <td>13.000000</td>\n      <td>1.000000</td>\n    </tr>\n    <tr>\n      <th>50%</th>\n      <td>13139.000000</td>\n      <td>18.000000</td>\n      <td>4.000000</td>\n    </tr>\n    <tr>\n      <th>75%</th>\n      <td>19396.000000</td>\n      <td>32.000000</td>\n      <td>6.000000</td>\n    </tr>\n    <tr>\n      <th>max</th>\n      <td>25744.000000</td>\n      <td>49.000000</td>\n      <td>11.000000</td>\n    </tr>\n  </tbody>\n</table>\n</div>"
     },
     "execution_count": 4,
     "metadata": {},
     "output_type": "execute_result"
    }
   ],
   "source": [
    "# Display basic statistics about the dataset\n",
    "logs.describe()"
   ],
   "metadata": {
    "collapsed": false,
    "ExecuteTime": {
     "end_time": "2023-11-20T22:53:01.109673Z",
     "start_time": "2023-11-20T22:53:01.069964Z"
    }
   },
   "id": "2020ae5e7a3a454d"
  },
  {
   "cell_type": "code",
   "execution_count": 5,
   "outputs": [
    {
     "name": "stdout",
     "output_type": "stream",
     "text": [
      "<class 'pandas.core.frame.DataFrame'>\n",
      "RangeIndex: 162523 entries, 0 to 162522\n",
      "Data columns (total 4 columns):\n",
      " #   Column      Non-Null Count   Dtype         \n",
      "---  ------      --------------   -----         \n",
      " 0   UserId      162523 non-null  int64         \n",
      " 1   ServiceId   162523 non-null  int64         \n",
      " 2   CategoryId  162523 non-null  int64         \n",
      " 3   CreateDate  162523 non-null  datetime64[ns]\n",
      "dtypes: datetime64[ns](1), int64(3)\n",
      "memory usage: 5.0 MB\n"
     ]
    }
   ],
   "source": [
    "# Display information about the dataset\n",
    "logs.info()"
   ],
   "metadata": {
    "collapsed": false,
    "ExecuteTime": {
     "end_time": "2023-11-20T22:53:01.283648Z",
     "start_time": "2023-11-20T22:53:01.269614Z"
    }
   },
   "id": "32c207f8874d873b"
  },
  {
   "cell_type": "code",
   "execution_count": 6,
   "outputs": [
    {
     "data": {
      "text/plain": "UserId        False\nServiceId     False\nCategoryId    False\nCreateDate    False\ndtype: bool"
     },
     "execution_count": 6,
     "metadata": {},
     "output_type": "execute_result"
    }
   ],
   "source": [
    "# Identify columns with null values\n",
    "logs.isnull().any()"
   ],
   "metadata": {
    "collapsed": false,
    "ExecuteTime": {
     "end_time": "2023-11-20T22:53:01.544814Z",
     "start_time": "2023-11-20T22:53:01.531048Z"
    }
   },
   "id": "e136666514c05db2"
  },
  {
   "cell_type": "code",
   "execution_count": 7,
   "outputs": [
    {
     "data": {
      "text/plain": "UserId         24826\nServiceId         50\nCategoryId        12\nCreateDate    117510\ndtype: int64"
     },
     "execution_count": 7,
     "metadata": {},
     "output_type": "execute_result"
    }
   ],
   "source": [
    "# Get the number of unique values in each column\n",
    "logs.nunique()"
   ],
   "metadata": {
    "collapsed": false,
    "ExecuteTime": {
     "end_time": "2023-11-20T22:53:01.942452Z",
     "start_time": "2023-11-20T22:53:01.911293Z"
    }
   },
   "id": "61e8c37d7bec2dbb"
  },
  {
   "cell_type": "markdown",
   "source": [
    "## 2.3 Data Cleaning and Preprocessing"
   ],
   "metadata": {
    "collapsed": false
   },
   "id": "6abdd0c06ae76da8"
  },
  {
   "cell_type": "code",
   "execution_count": 8,
   "outputs": [],
   "source": [
    "# Create Service column by combining ServiceId and CategoryId\n",
    "logs['Service'] = [str(log[1]) + '_' + str(log[2]) for log in logs.values]"
   ],
   "metadata": {
    "collapsed": false,
    "ExecuteTime": {
     "end_time": "2023-11-20T22:53:02.953765Z",
     "start_time": "2023-11-20T22:53:02.596350Z"
    }
   },
   "id": "494858e40003672f"
  },
  {
   "cell_type": "code",
   "execution_count": 9,
   "outputs": [],
   "source": [
    "# Create CartId column by combining UserId and CreateDate\n",
    "logs['CartId'] = [str(log[0]) + '_' + str(log[3].strftime('%Y-%m')) for log in logs.values]"
   ],
   "metadata": {
    "collapsed": false,
    "ExecuteTime": {
     "end_time": "2023-11-20T22:53:03.818968Z",
     "start_time": "2023-11-20T22:53:03.231922Z"
    }
   },
   "id": "85354aaa91d42d81"
  },
  {
   "cell_type": "code",
   "execution_count": 10,
   "outputs": [
    {
     "data": {
      "text/plain": "   UserId  ServiceId  CategoryId          CreateDate Service         CartId\n0   25446          4           5 2017-08-06 16:11:00     4_5  25446_2017-08\n1   22948         48           5 2017-08-06 16:12:00    48_5  22948_2017-08\n2   10618          0           8 2017-08-06 16:13:00     0_8  10618_2017-08\n3    7256          9           4 2017-08-06 16:14:00     9_4   7256_2017-08\n4   25446         48           5 2017-08-06 16:16:00    48_5  25446_2017-08",
      "text/html": "<div>\n<style scoped>\n    .dataframe tbody tr th:only-of-type {\n        vertical-align: middle;\n    }\n\n    .dataframe tbody tr th {\n        vertical-align: top;\n    }\n\n    .dataframe thead th {\n        text-align: right;\n    }\n</style>\n<table border=\"1\" class=\"dataframe\">\n  <thead>\n    <tr style=\"text-align: right;\">\n      <th></th>\n      <th>UserId</th>\n      <th>ServiceId</th>\n      <th>CategoryId</th>\n      <th>CreateDate</th>\n      <th>Service</th>\n      <th>CartId</th>\n    </tr>\n  </thead>\n  <tbody>\n    <tr>\n      <th>0</th>\n      <td>25446</td>\n      <td>4</td>\n      <td>5</td>\n      <td>2017-08-06 16:11:00</td>\n      <td>4_5</td>\n      <td>25446_2017-08</td>\n    </tr>\n    <tr>\n      <th>1</th>\n      <td>22948</td>\n      <td>48</td>\n      <td>5</td>\n      <td>2017-08-06 16:12:00</td>\n      <td>48_5</td>\n      <td>22948_2017-08</td>\n    </tr>\n    <tr>\n      <th>2</th>\n      <td>10618</td>\n      <td>0</td>\n      <td>8</td>\n      <td>2017-08-06 16:13:00</td>\n      <td>0_8</td>\n      <td>10618_2017-08</td>\n    </tr>\n    <tr>\n      <th>3</th>\n      <td>7256</td>\n      <td>9</td>\n      <td>4</td>\n      <td>2017-08-06 16:14:00</td>\n      <td>9_4</td>\n      <td>7256_2017-08</td>\n    </tr>\n    <tr>\n      <th>4</th>\n      <td>25446</td>\n      <td>48</td>\n      <td>5</td>\n      <td>2017-08-06 16:16:00</td>\n      <td>48_5</td>\n      <td>25446_2017-08</td>\n    </tr>\n  </tbody>\n</table>\n</div>"
     },
     "execution_count": 10,
     "metadata": {},
     "output_type": "execute_result"
    }
   ],
   "source": [
    "# Display updated DataFrame\n",
    "logs.head()"
   ],
   "metadata": {
    "collapsed": false,
    "ExecuteTime": {
     "end_time": "2023-11-20T22:53:03.837667Z",
     "start_time": "2023-11-20T22:53:03.826994Z"
    }
   },
   "id": "4a74c1601e4cd093"
  },
  {
   "cell_type": "code",
   "execution_count": 11,
   "outputs": [
    {
     "data": {
      "text/plain": "Service        0_8  10_9  11_11  12_7  13_11  14_7  15_1  16_8  17_5  18_4  \\\nCartId                                                                       \n0_2017-08        0     0      0     0      0     0     0     0     0     0   \n0_2017-09        0     0      0     0      0     0     0     0     0     0   \n0_2018-01        0     0      0     0      0     0     0     0     0     0   \n0_2018-04        0     0      0     0      0     1     0     0     0     0   \n10000_2017-08    0     0      0     0      0     0     0     0     0     0   \n\nService        ...  46_4  47_7  48_5  49_1  4_5  5_11  6_7  7_3  8_5  9_4  \nCartId         ...                                                         \n0_2017-08      ...     1     0     1     0    0     0    0    0    0    0  \n0_2017-09      ...     0     0     1     0    1     0    0    0    0    0  \n0_2018-01      ...     0     0     0     0    0     0    0    1    0    0  \n0_2018-04      ...     0     0     0     0    0     0    0    0    0    0  \n10000_2017-08  ...     1     0     0     0    0     0    0    0    0    0  \n\n[5 rows x 50 columns]",
      "text/html": "<div>\n<style scoped>\n    .dataframe tbody tr th:only-of-type {\n        vertical-align: middle;\n    }\n\n    .dataframe tbody tr th {\n        vertical-align: top;\n    }\n\n    .dataframe thead th {\n        text-align: right;\n    }\n</style>\n<table border=\"1\" class=\"dataframe\">\n  <thead>\n    <tr style=\"text-align: right;\">\n      <th>Service</th>\n      <th>0_8</th>\n      <th>10_9</th>\n      <th>11_11</th>\n      <th>12_7</th>\n      <th>13_11</th>\n      <th>14_7</th>\n      <th>15_1</th>\n      <th>16_8</th>\n      <th>17_5</th>\n      <th>18_4</th>\n      <th>...</th>\n      <th>46_4</th>\n      <th>47_7</th>\n      <th>48_5</th>\n      <th>49_1</th>\n      <th>4_5</th>\n      <th>5_11</th>\n      <th>6_7</th>\n      <th>7_3</th>\n      <th>8_5</th>\n      <th>9_4</th>\n    </tr>\n    <tr>\n      <th>CartId</th>\n      <th></th>\n      <th></th>\n      <th></th>\n      <th></th>\n      <th></th>\n      <th></th>\n      <th></th>\n      <th></th>\n      <th></th>\n      <th></th>\n      <th></th>\n      <th></th>\n      <th></th>\n      <th></th>\n      <th></th>\n      <th></th>\n      <th></th>\n      <th></th>\n      <th></th>\n      <th></th>\n      <th></th>\n    </tr>\n  </thead>\n  <tbody>\n    <tr>\n      <th>0_2017-08</th>\n      <td>0</td>\n      <td>0</td>\n      <td>0</td>\n      <td>0</td>\n      <td>0</td>\n      <td>0</td>\n      <td>0</td>\n      <td>0</td>\n      <td>0</td>\n      <td>0</td>\n      <td>...</td>\n      <td>1</td>\n      <td>0</td>\n      <td>1</td>\n      <td>0</td>\n      <td>0</td>\n      <td>0</td>\n      <td>0</td>\n      <td>0</td>\n      <td>0</td>\n      <td>0</td>\n    </tr>\n    <tr>\n      <th>0_2017-09</th>\n      <td>0</td>\n      <td>0</td>\n      <td>0</td>\n      <td>0</td>\n      <td>0</td>\n      <td>0</td>\n      <td>0</td>\n      <td>0</td>\n      <td>0</td>\n      <td>0</td>\n      <td>...</td>\n      <td>0</td>\n      <td>0</td>\n      <td>1</td>\n      <td>0</td>\n      <td>1</td>\n      <td>0</td>\n      <td>0</td>\n      <td>0</td>\n      <td>0</td>\n      <td>0</td>\n    </tr>\n    <tr>\n      <th>0_2018-01</th>\n      <td>0</td>\n      <td>0</td>\n      <td>0</td>\n      <td>0</td>\n      <td>0</td>\n      <td>0</td>\n      <td>0</td>\n      <td>0</td>\n      <td>0</td>\n      <td>0</td>\n      <td>...</td>\n      <td>0</td>\n      <td>0</td>\n      <td>0</td>\n      <td>0</td>\n      <td>0</td>\n      <td>0</td>\n      <td>0</td>\n      <td>1</td>\n      <td>0</td>\n      <td>0</td>\n    </tr>\n    <tr>\n      <th>0_2018-04</th>\n      <td>0</td>\n      <td>0</td>\n      <td>0</td>\n      <td>0</td>\n      <td>0</td>\n      <td>1</td>\n      <td>0</td>\n      <td>0</td>\n      <td>0</td>\n      <td>0</td>\n      <td>...</td>\n      <td>0</td>\n      <td>0</td>\n      <td>0</td>\n      <td>0</td>\n      <td>0</td>\n      <td>0</td>\n      <td>0</td>\n      <td>0</td>\n      <td>0</td>\n      <td>0</td>\n    </tr>\n    <tr>\n      <th>10000_2017-08</th>\n      <td>0</td>\n      <td>0</td>\n      <td>0</td>\n      <td>0</td>\n      <td>0</td>\n      <td>0</td>\n      <td>0</td>\n      <td>0</td>\n      <td>0</td>\n      <td>0</td>\n      <td>...</td>\n      <td>1</td>\n      <td>0</td>\n      <td>0</td>\n      <td>0</td>\n      <td>0</td>\n      <td>0</td>\n      <td>0</td>\n      <td>0</td>\n      <td>0</td>\n      <td>0</td>\n    </tr>\n  </tbody>\n</table>\n<p>5 rows × 50 columns</p>\n</div>"
     },
     "execution_count": 11,
     "metadata": {},
     "output_type": "execute_result"
    }
   ],
   "source": [
    "# Create invoices pivot table\n",
    "invoices = logs.groupby(['CartId', 'Service'])['Service'].count().unstack().applymap(\n",
    "    lambda value: 1 if value > 0 else 0)\n",
    "\n",
    "# Display pivot table\n",
    "invoices.head()"
   ],
   "metadata": {
    "collapsed": false,
    "ExecuteTime": {
     "end_time": "2023-11-20T22:53:05.255044Z",
     "start_time": "2023-11-20T22:53:03.832717Z"
    }
   },
   "id": "6571588dafa02af9"
  },
  {
   "cell_type": "markdown",
   "source": [
    "# 3. Data Analysis"
   ],
   "metadata": {
    "collapsed": false
   },
   "id": "f29b1d07c1c6acaa"
  },
  {
   "cell_type": "code",
   "execution_count": 12,
   "outputs": [
    {
     "data": {
      "text/plain": "  antecedents consequents  antecedent support  consequent support   support  \\\n0     (13_11)       (2_0)            0.056627            0.130286  0.012819   \n1       (2_0)     (13_11)            0.130286            0.056627  0.012819   \n2       (2_0)      (15_1)            0.130286            0.120963  0.033951   \n3      (15_1)       (2_0)            0.120963            0.130286  0.033951   \n4      (33_4)      (15_1)            0.027310            0.120963  0.011233   \n\n   confidence      lift  leverage  conviction  zhangs_metric  \n0    0.226382  1.737574  0.005442    1.124216       0.449965  \n1    0.098394  1.737574  0.005442    1.046325       0.488074  \n2    0.260588  2.154278  0.018191    1.188833       0.616073  \n3    0.280673  2.154278  0.018191    1.209066       0.609539  \n4    0.411311  3.400299  0.007929    1.493211       0.725728  ",
      "text/html": "<div>\n<style scoped>\n    .dataframe tbody tr th:only-of-type {\n        vertical-align: middle;\n    }\n\n    .dataframe tbody tr th {\n        vertical-align: top;\n    }\n\n    .dataframe thead th {\n        text-align: right;\n    }\n</style>\n<table border=\"1\" class=\"dataframe\">\n  <thead>\n    <tr style=\"text-align: right;\">\n      <th></th>\n      <th>antecedents</th>\n      <th>consequents</th>\n      <th>antecedent support</th>\n      <th>consequent support</th>\n      <th>support</th>\n      <th>confidence</th>\n      <th>lift</th>\n      <th>leverage</th>\n      <th>conviction</th>\n      <th>zhangs_metric</th>\n    </tr>\n  </thead>\n  <tbody>\n    <tr>\n      <th>0</th>\n      <td>(13_11)</td>\n      <td>(2_0)</td>\n      <td>0.056627</td>\n      <td>0.130286</td>\n      <td>0.012819</td>\n      <td>0.226382</td>\n      <td>1.737574</td>\n      <td>0.005442</td>\n      <td>1.124216</td>\n      <td>0.449965</td>\n    </tr>\n    <tr>\n      <th>1</th>\n      <td>(2_0)</td>\n      <td>(13_11)</td>\n      <td>0.130286</td>\n      <td>0.056627</td>\n      <td>0.012819</td>\n      <td>0.098394</td>\n      <td>1.737574</td>\n      <td>0.005442</td>\n      <td>1.046325</td>\n      <td>0.488074</td>\n    </tr>\n    <tr>\n      <th>2</th>\n      <td>(2_0)</td>\n      <td>(15_1)</td>\n      <td>0.130286</td>\n      <td>0.120963</td>\n      <td>0.033951</td>\n      <td>0.260588</td>\n      <td>2.154278</td>\n      <td>0.018191</td>\n      <td>1.188833</td>\n      <td>0.616073</td>\n    </tr>\n    <tr>\n      <th>3</th>\n      <td>(15_1)</td>\n      <td>(2_0)</td>\n      <td>0.120963</td>\n      <td>0.130286</td>\n      <td>0.033951</td>\n      <td>0.280673</td>\n      <td>2.154278</td>\n      <td>0.018191</td>\n      <td>1.209066</td>\n      <td>0.609539</td>\n    </tr>\n    <tr>\n      <th>4</th>\n      <td>(33_4)</td>\n      <td>(15_1)</td>\n      <td>0.027310</td>\n      <td>0.120963</td>\n      <td>0.011233</td>\n      <td>0.411311</td>\n      <td>3.400299</td>\n      <td>0.007929</td>\n      <td>1.493211</td>\n      <td>0.725728</td>\n    </tr>\n  </tbody>\n</table>\n</div>"
     },
     "execution_count": 12,
     "metadata": {},
     "output_type": "execute_result"
    }
   ],
   "source": [
    "# Convert the invoices DataFrame to boolean type\n",
    "invoices_bool = invoices.astype(bool)\n",
    "\n",
    "# Find frequent item sets using Apriori algorithm with a minimum support of 0.01\n",
    "frequent_itemsets = apriori(invoices_bool, min_support=0.01, use_colnames=True)\n",
    "\n",
    "# Generate association rules based on support with a minimum threshold of 0.01\n",
    "rules = association_rules(frequent_itemsets, metric='support', min_threshold=0.01)\n",
    "\n",
    "# Display the first few rows of the generated association rules\n",
    "rules.head()"
   ],
   "metadata": {
    "collapsed": false,
    "ExecuteTime": {
     "end_time": "2023-11-20T22:53:05.544796Z",
     "start_time": "2023-11-20T22:53:05.253580Z"
    }
   },
   "id": "ba61ecdf0847c7c7"
  },
  {
   "cell_type": "code",
   "execution_count": 13,
   "outputs": [
    {
     "name": "stdout",
     "output_type": "stream",
     "text": [
      "- For the service ['49_1'], recommendations are ['25_0']\n",
      "- For the service ['2_0'], recommendations are ['22_0', '9_4', '2_0', '15_1', '38_4']\n",
      "- For the service ['49_1'], recommendations are ['25_0']\n",
      "- For the service ['29_0'], there are no recommendations\n",
      "- For the service ['12_7'], there are no recommendations\n"
     ]
    }
   ],
   "source": [
    "def generate_recommendations(rules, target, num_recommendations=1):\n",
    "    \"\"\"\n",
    "    Generate recommendations based on association rules.\n",
    "\n",
    "    Parameters:\n",
    "    - rules (DataFrame): DataFrame containing association rules.\n",
    "    - target (str): The service for which recommendations are sought.\n",
    "    - num_recommendations (int): Number of recommendations to return.\n",
    "\n",
    "    Returns:\n",
    "    - list: List of recommended services.\n",
    "    \"\"\"\n",
    "    # Sort rules by lift in descending order to prioritize more relevant recommendations\n",
    "    sorted_rules = rules.sort_values('lift', ascending=False)\n",
    "\n",
    "    # Initialize an empty list to store recommended services\n",
    "    recommendation_list = []\n",
    "\n",
    "    # Iterate over the antecedents (X) in the sorted rules\n",
    "    for _, antecedents in sorted_rules['antecedents'].items():\n",
    "        for service in antecedents:\n",
    "            if service == target:\n",
    "                recommendation_list.append(list(sorted_rules.iloc[_]['consequents']))\n",
    "\n",
    "    # Flatten the recommendation list and remove duplicates using a set\n",
    "    recommendation_list = list({item for item_list in recommendation_list for item in item_list})\n",
    "\n",
    "    return recommendation_list[:num_recommendations]\n",
    "\n",
    "\n",
    "# Generate recommendations for the given service\n",
    "for service in logs['Service'].sample(5):\n",
    "    recommendations = generate_recommendations(rules, service, 5)\n",
    "    print(\n",
    "        f\"- For the service ['{service}'], {'recommendations are ' + str(recommendations) if recommendations != [] else 'there are no recommendations'}\")\n"
   ],
   "metadata": {
    "collapsed": false,
    "ExecuteTime": {
     "end_time": "2023-11-20T22:53:05.572292Z",
     "start_time": "2023-11-20T22:53:05.554726Z"
    }
   },
   "id": "d9d90ea4fb9cb6af"
  }
 ],
 "metadata": {
  "kernelspec": {
   "display_name": "Python 3",
   "language": "python",
   "name": "python3"
  },
  "language_info": {
   "codemirror_mode": {
    "name": "ipython",
    "version": 2
   },
   "file_extension": ".py",
   "mimetype": "text/x-python",
   "name": "python",
   "nbconvert_exporter": "python",
   "pygments_lexer": "ipython2",
   "version": "2.7.6"
  }
 },
 "nbformat": 4,
 "nbformat_minor": 5
}
